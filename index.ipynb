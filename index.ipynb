{
 "cells": [
  {
   "cell_type": "markdown",
   "metadata": {},
   "source": [
    "## Notebooks\n",
    "\n",
    "Run this Notebook live [![Binder](https://mybinder.org/badge_logo.svg)](https://mybinder.org/v2/gh/adocherty/mastering-structured-output/HEAD?urlpath=%2Fdoc%2Ftree%2Findex.ipynb)\n",
    "\n",
    "There are multiple examples as Jupyter notebooks in this repository:\n",
    "\n",
    "[`1-langchain-structured-output-examples.ipynb`](1-langchain-structured-output-examples.ipynb)\n",
    "\n",
    "- Demonstrates different methods for getting structured output from LLMs using LangChain. See the blog post [Choosing the Right Model for JSON Output with LangChain](https://medium.com/@docherty/mastering-structured-output-in-llms-choosing-the-right-model-for-json-output-with-langchain-be29fb6f6675)\n",
    "\n",
    "[`2-langchain-structured-output-evaluation.ipynb`](2-langchain-structured-output-evaluation.ipynb)\n",
    "\n",
    "- Shows how to evaluate the quality of structured outputs. See the blog post [Choosing the Right Model for JSON Output with LangChain](https://medium.com/@docherty/mastering-structured-output-in-llms-choosing-the-right-model-for-json-output-with-langchain-be29fb6f6675)\n",
    "\n",
    "[`3-langchain-structured-output-examples-updated.ipynb`](3-langchain-structured-output-examples-updated.ipynb)\n",
    "\n",
    "- Update of initial examples with new style methods for getting structured output from LLMs using LangChain. See the updated blog post [Revisiting LangChain and JSON structured outputs](https://medium.com/@docherty/mastering-structured-output-in-llms-revisiting-langchain-and-json-structured-outputs-d95dfc286045)\n",
    "\n",
    "[`4-langchain-structured-output-evaluation-updated.ipynb`](4-langchain-structured-output-evaluation-updated.ipynb)\n",
    "\n",
    "- Update of evaluation with new style methods for getting structured output from LLMs using LangChain. See the updated blog post [Revisiting LangChain and JSON structured outputs](https://medium.com/@docherty/mastering-structured-output-in-llms-revisiting-langchain-and-json-structured-outputs-d95dfc286045)\n",
    "\n",
    "[`5-langchain-xml-output-examples.ipynb`](5-langchain-xml-output-examples.ipynb)\n",
    "\n",
    "- Notebook of examples for XML output using LangChain. See the XML blog post [LangChain and XML]()\n"
   ]
  },
  {
   "cell_type": "markdown",
   "metadata": {},
   "source": []
  }
 ],
 "metadata": {
  "language_info": {
   "name": "python"
  }
 },
 "nbformat": 4,
 "nbformat_minor": 2
}
