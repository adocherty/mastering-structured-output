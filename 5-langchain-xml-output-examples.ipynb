{
 "cells": [
  {
   "cell_type": "markdown",
   "metadata": {},
   "source": [
    "## Using LangChain to get structured outputs\n"
   ]
  },
  {
   "cell_type": "code",
   "execution_count": 1,
   "metadata": {},
   "outputs": [
    {
     "name": "stdout",
     "output_type": "stream",
     "text": [
      "Exception reporting mode: Minimal\n"
     ]
    }
   ],
   "source": [
    " %xmode minimal"
   ]
  },
  {
   "cell_type": "code",
   "execution_count": 2,
   "metadata": {},
   "outputs": [],
   "source": [
    "from langchain.prompts import ChatPromptTemplate\n",
    "from langchain_anthropic import ChatAnthropic\n",
    "from langchain_ollama import ChatOllama\n",
    "from langchain_fireworks import ChatFireworks\n",
    "\n",
    "from langchain.output_parsers import XMLOutputParser, PydanticOutputParser\n",
    "\n",
    "from typing import Optional\n",
    "from pydantic import BaseModel, Field\n",
    "from typing_extensions import Annotated, TypedDict"
   ]
  },
  {
   "cell_type": "code",
   "execution_count": 3,
   "metadata": {},
   "outputs": [],
   "source": [
    "ANTHROPIC_API_KEY = \"<API KEY>\"\n",
    "FIREWORKS_API_KEY = \"<API KEY>\"\n",
    "\n",
    "import streamlit as st\n",
    "\n",
    "LANGSMITH_API_KEY = st.secrets[\"api_keys\"][\"LANGSMITH_API_KEY\"]\n",
    "ANTHROPIC_API_KEY = st.secrets[\"api_keys\"][\"ANTHROPIC_API_KEY\"]\n",
    "FIREWORKS_API_KEY = st.secrets[\"api_keys\"][\"FIREWORKS_API_KEY\"]"
   ]
  },
  {
   "cell_type": "markdown",
   "metadata": {},
   "source": [
    "Let's start by creating a LLM model to run our structured output queries. Use a temperature of 0 to improve structured output generation (but at the cost of \"creativity\").\n"
   ]
  },
  {
   "cell_type": "code",
   "execution_count": 4,
   "metadata": {},
   "outputs": [],
   "source": [
    "# LLM parameters\n",
    "temperature = 0.8\n",
    "timeout = 30\n",
    "num_ctx = 8192\n",
    "num_predict = 4096"
   ]
  },
  {
   "cell_type": "markdown",
   "metadata": {},
   "source": [
    "Define a LLM model below\n"
   ]
  },
  {
   "cell_type": "code",
   "execution_count": 5,
   "metadata": {},
   "outputs": [],
   "source": [
    "# llm_model = ChatAnthropic(model=\"claude-3-5-haiku-20241022\", api_key=claude_api_key)\n",
    "llm_model = (\n",
    "    ChatOllama(\n",
    "        model=\"phi3\",\n",
    "        temperature=temperature,\n",
    "        num_ctx=num_ctx,\n",
    "        num_thread=1,\n",
    "        num_predict=num_predict,\n",
    "    ),\n",
    ")\n",
    "# llm_model = ChatFireworks(\n",
    "#     # model_name=\"accounts/fireworks/models/llama-v3p1-70b-instruct\",\n",
    "#     # model_name=\"accounts/fireworks/models/llama-v3p2-3b-instruct\",\n",
    "#     model_name=\"accounts/fireworks/models/llama-v3p3-70b-instruct\",\n",
    "#     # model_name=\"accounts/fireworks/models/deepseek-r1\",\n",
    "#     api_key=FIREWORKS_API_KEY,\n",
    "# )"
   ]
  },
  {
   "cell_type": "markdown",
   "metadata": {},
   "source": [
    "Check it works\n"
   ]
  },
  {
   "cell_type": "code",
   "execution_count": 6,
   "metadata": {},
   "outputs": [
    {
     "name": "stdout",
     "output_type": "stream",
     "text": [
      "Why did the zebra bring a ladder to work?\n",
      "\n",
      "Because he heard the stripes were great for climbing up the career ladder! 😄\n"
     ]
    }
   ],
   "source": [
    "print(llm_model.invoke(\"Tell me a joke about zebras\").content)"
   ]
  },
  {
   "cell_type": "markdown",
   "metadata": {},
   "source": [
    "### Problem setup and prompt\n"
   ]
  },
  {
   "cell_type": "code",
   "execution_count": 7,
   "metadata": {},
   "outputs": [],
   "source": [
    "test_science_prompt_txt = \"\"\"\n",
    "You are a professional science writer tasked with responding to members of\n",
    "the general public who write in asking questions about science.\n",
    "Write an article responding to a writer's question for publication in a\n",
    "science magazine intended for a general readership with a high-school education.\n",
    "You should write clearly and compellingly, include all relavent context,\n",
    "and provide motivating stories where applicable.\n",
    "\n",
    "Your response must be less than 200 words.\n",
    "\n",
    "The question given to you is the following:\n",
    "{question}\n",
    "\"\"\"\n",
    "\n",
    "questions = [\n",
    "    \"What is the oldest recorded fossil?\",\n",
    "    \"What is a black hole?\",\n",
    "    \"How far away is the sun?\",\n",
    "    \"Which other planet in the Solar System has a surface gravity closest to that of the Earth?\",\n",
    "    \"Eris, Haumea, Makemake and Ceres are all examples of what?\",\n",
    "    \"Why does earth have seasons? Do other planets exhibit seasons too?\",\n",
    "    \"What causes the aurora borealis?\",\n",
    "    \"Why is the sky blue?\",\n",
    "    \"How do bees communicate?\",\n",
    "    \"What is the smallest unit of life?\",\n",
    "    \"How do plants make their own food?\",\n",
    "    \"Why do we dream?\",\n",
    "    \"What is the theory of relativity?\",\n",
    "    \"How do volcanoes erupt?\",\n",
    "    \"What is the speed of light?\",\n",
    "    \"How do magnets work?\",\n",
    "    \"What is the purpose of DNA?\",\n",
    "    \"What are the different types of galaxies?\",\n",
    "    \"Why do some animals hibernate?\",\n",
    "    \"How do vaccines work?\",\n",
    "]"
   ]
  },
  {
   "cell_type": "code",
   "execution_count": 8,
   "metadata": {},
   "outputs": [],
   "source": [
    "prompt_system_format = ChatPromptTemplate.from_messages(\n",
    "    [\n",
    "        (\n",
    "            \"system\",\n",
    "            \"Write an article in the provided format that answers the user question.\\n{format_instructions}\",\n",
    "        ),\n",
    "        (\"human\", test_science_prompt_txt),\n",
    "    ]\n",
    ")"
   ]
  },
  {
   "cell_type": "markdown",
   "metadata": {},
   "source": [
    "XML output parsers\n"
   ]
  },
  {
   "cell_type": "code",
   "execution_count": 9,
   "metadata": {},
   "outputs": [],
   "source": [
    "from langchain_core.output_parsers import XMLOutputParser"
   ]
  },
  {
   "cell_type": "markdown",
   "metadata": {},
   "source": [
    "### Manual XML schema specification\n"
   ]
  },
  {
   "cell_type": "code",
   "execution_count": 10,
   "metadata": {},
   "outputs": [],
   "source": [
    "prompt_xml_format = \"\"\"\n",
    "Your answers must strictly adhere to the following XML format:\n",
    "\n",
    "<article>\n",
    "<title>\n",
    "[Title of the article.]\n",
    "</title>\n",
    "\n",
    "<problem>\n",
    "[Summary of the writer's question, write concisely.]\n",
    "</problem>\n",
    "\n",
    "<answer>\n",
    "[Answer the writer's question.]\n",
    "</answer>\n",
    "</article>\n",
    "\"\"\""
   ]
  },
  {
   "cell_type": "code",
   "execution_count": 11,
   "metadata": {},
   "outputs": [],
   "source": [
    "xml_parser = XMLOutputParser()"
   ]
  },
  {
   "cell_type": "code",
   "execution_count": 12,
   "metadata": {},
   "outputs": [],
   "source": [
    "test_chain = (\n",
    "    prompt_system_format.partial(format_instructions=prompt_xml_format)\n",
    "    | llm_model\n",
    "    | xml_parser\n",
    ")\n",
    "\n",
    "output = test_chain.invoke(dict(question=questions[0]))"
   ]
  },
  {
   "cell_type": "code",
   "execution_count": 13,
   "metadata": {},
   "outputs": [
    {
     "data": {
      "text/plain": [
       "{'article': [{'title': \"The Oldest Recorded Fossil: A Glimpse into Earth's Ancient Past\"},\n",
       "  {'problem': '\\nA reader asks about the oldest known fossil, seeking to understand its significance and what it reveals about early life on Earth.\\n'},\n",
       "  {'answer': \"\\nThe oldest recorded fossil is Stromatolite fossils found in Australia, estimated to be around 3.5 billion years old. These layered structures are created by the growth of cyanobacteria, a type of photosynthetic microorganism. Discovered in the Pilbara region, these stromatolites provide crucial evidence about early life on Earth.\\n\\nCyanobacteria played a vital role in transforming our planet's atmosphere through oxygen production, paving the way for more complex life forms to evolve. The discovery of these ancient fossils not only offers insights into biological processes from billions of years ago but also underscores the resilience and adaptability of life. Their existence suggests that early Earth had conditions suitable for microbial life despite harsh environments.\\n\\nStromatolites remind us of Earth's dynamic history, showcasing how simple organisms can profoundly impact the planet over geological time scales. This discovery continues to inspire scientists as they explore the origins of life and its evolution.\\n\"}]}"
      ]
     },
     "execution_count": 13,
     "metadata": {},
     "output_type": "execute_result"
    }
   ],
   "source": [
    "output"
   ]
  },
  {
   "cell_type": "markdown",
   "metadata": {},
   "source": [
    "### LangChain Output Parsers\n"
   ]
  },
  {
   "cell_type": "code",
   "execution_count": 14,
   "metadata": {},
   "outputs": [],
   "source": [
    "xml_parser = XMLOutputParser(\n",
    "    name=\"article\", tags=[\"article\", \"title\", \"problem\", \"answer\"]\n",
    ")"
   ]
  },
  {
   "cell_type": "code",
   "execution_count": 15,
   "metadata": {},
   "outputs": [],
   "source": [
    "test_chain = (\n",
    "    prompt_system_format.partial(\n",
    "        format_instructions=xml_parser.get_format_instructions()\n",
    "    )\n",
    "    | llm_model\n",
    "    | xml_parser\n",
    ")\n",
    "\n",
    "output = test_chain.invoke(dict(question=questions[0]))"
   ]
  },
  {
   "cell_type": "code",
   "execution_count": 16,
   "metadata": {},
   "outputs": [
    {
     "data": {
      "text/plain": [
       "{'article': [{'title': \"The Oldest Recorded Fossil: A Glimpse into Earth's Ancient Past\"},\n",
       "  {'problem': '\\n        Unraveling Earth’s earliest history involves studying fossils, which are preserved remains or traces of ancient organisms. The oldest recorded fossil provides a window into life billions of years ago, offering insights into the development of early life forms on our planet.\\n    '},\n",
       "  {'answer': \"\\n        The oldest known fossils are stromatolites, layered structures formed by the activities of microorganisms like cyanobacteria. These ancient formations date back approximately 3.5 billion years and have been found in rocks from Western Australia's Pilbara region. Stromatolites were crucial as they contributed to oxygenating Earth’s atmosphere through photosynthesis.\\n\\n        One of the most compelling discoveries is the fossilized microorganisms found in Greenland's Apex Chert, dated at about 3.7 billion years old. These tiny fossils resemble modern cyanobacteria and are considered evidence of early life on Earth.\\n\\n        These ancient remnants not only chronicle the beginnings of life but also highlight its resilience and adaptability over eons. Understanding these primordial organisms helps scientists piece together the conditions that allowed life to flourish, offering profound insights into our planet’s dynamic history.\\n    \"}]}"
      ]
     },
     "execution_count": 16,
     "metadata": {},
     "output_type": "execute_result"
    }
   ],
   "source": [
    "output"
   ]
  },
  {
   "cell_type": "code",
   "execution_count": 23,
   "metadata": {},
   "outputs": [
    {
     "name": "stdout",
     "output_type": "stream",
     "text": [
      "The output should be formatted as a XML file.\n",
      "1. Output should conform to the tags below.\n",
      "2. If tags are not given, make them on your own.\n",
      "3. Remember to always open and close all the tags.\n",
      "\n",
      "As an example, for the tags [\"foo\", \"bar\", \"baz\"]:\n",
      "1. String \"<foo>\n",
      "   <bar>\n",
      "      <baz></baz>\n",
      "   </bar>\n",
      "</foo>\" is a well-formatted instance of the schema.\n",
      "2. String \"<foo>\n",
      "   <bar>\n",
      "   </foo>\" is a badly-formatted instance.\n",
      "3. String \"<foo>\n",
      "   <tag>\n",
      "   </tag>\n",
      "</foo>\" is a badly-formatted instance.\n",
      "\n",
      "Here are the output tags:\n",
      "```\n",
      "['article', 'title', 'problem', 'answer']\n",
      "```\n"
     ]
    }
   ],
   "source": [
    "print(xml_parser.get_format_instructions())"
   ]
  },
  {
   "cell_type": "markdown",
   "metadata": {},
   "source": [
    "### Pydantic XML would be nice!\n"
   ]
  },
  {
   "cell_type": "code",
   "execution_count": 17,
   "metadata": {},
   "outputs": [],
   "source": [
    "from pydantic_xml import BaseXmlModel, element\n",
    "\n",
    "\n",
    "class Article(BaseXmlModel, tag=\"article\"):\n",
    "    title: str = element(default=\"[Title of the article]\")\n",
    "    problem: str = element(\n",
    "        default=\"[Summary of the writer's question, write concisely]\"\n",
    "    )\n",
    "    answer: str = element(default=\"[Answer the writer's question]\")"
   ]
  },
  {
   "cell_type": "code",
   "execution_count": 18,
   "metadata": {},
   "outputs": [
    {
     "name": "stdout",
     "output_type": "stream",
     "text": [
      "<article>\n",
      "  <title>[Title of the article]</title>\n",
      "  <problem>[Summary of the writer's question, write concisely]</problem>\n",
      "  <answer>[Answer the writer's question]</answer>\n",
      "</article>\n",
      "\n"
     ]
    }
   ],
   "source": [
    "print(Article().to_xml(pretty_print=True).decode())"
   ]
  },
  {
   "cell_type": "code",
   "execution_count": 19,
   "metadata": {},
   "outputs": [],
   "source": [
    "xml_schema = Article().to_xml(pretty_print=True).decode()\n",
    "\n",
    "prompt_xml_format_pyxml = f\"\"\"\n",
    "Your answers must strictly adhere to the following XML format:\n",
    "\n",
    "{xml_schema}\n",
    "\"\"\""
   ]
  },
  {
   "cell_type": "markdown",
   "metadata": {},
   "source": [
    "But we can't use the `PydanticOutputParser` with a Pydantic XML object\n"
   ]
  },
  {
   "cell_type": "code",
   "execution_count": 24,
   "metadata": {},
   "outputs": [],
   "source": [
    "pydantic_parser = PydanticOutputParser(pydantic_object=Article)"
   ]
  },
  {
   "cell_type": "code",
   "execution_count": 21,
   "metadata": {},
   "outputs": [
    {
     "ename": "OutputParserException",
     "evalue": "Invalid json output: <article>\n  <title>Unearthing Time: The Oldest Known Fossil</title>\n  <problem>The writer inquires about the identity of the oldest known fossil.</problem>\n  <answer>The quest for Earth's earliest life forms leads us to remarkable fossils. The oldest recorded fossil is a stromatolite, dating back approximately 3.5 billion years. Stromatolites are layered structures formed by the growth of cyanobacteria, ancient microorganisms that played a pivotal role in oxygenating our planet.\n\nDiscovered in Western Australia's Pilbara region, these fossils offer a window into early life on Earth. They suggest that life began not long after the planet cooled enough for water to exist in liquid form. These formations are significant because they provide evidence of some of the first complex life forms, shaping the course of biological evolution.\n\nThe discovery of such ancient life highlights the resilience and adaptability of organisms, sparking curiosity about what other secrets lie beneath our feet, waiting to be uncovered by future explorations. Through stromatolites, we gain insight into a time when Earth was vastly different from today—a testament to life's enduring legacy across the eons.</answer>\n</article>\nFor troubleshooting, visit: https://python.langchain.com/docs/troubleshooting/errors/OUTPUT_PARSING_FAILURE ",
     "output_type": "error",
     "traceback": [
      "\u001b[0;31mOutputParserException\u001b[0m\u001b[0;31m:\u001b[0m Invalid json output: <article>\n  <title>Unearthing Time: The Oldest Known Fossil</title>\n  <problem>The writer inquires about the identity of the oldest known fossil.</problem>\n  <answer>The quest for Earth's earliest life forms leads us to remarkable fossils. The oldest recorded fossil is a stromatolite, dating back approximately 3.5 billion years. Stromatolites are layered structures formed by the growth of cyanobacteria, ancient microorganisms that played a pivotal role in oxygenating our planet.\n\nDiscovered in Western Australia's Pilbara region, these fossils offer a window into early life on Earth. They suggest that life began not long after the planet cooled enough for water to exist in liquid form. These formations are significant because they provide evidence of some of the first complex life forms, shaping the course of biological evolution.\n\nThe discovery of such ancient life highlights the resilience and adaptability of organisms, sparking curiosity about what other secrets lie beneath our feet, waiting to be uncovered by future explorations. Through stromatolites, we gain insight into a time when Earth was vastly different from today—a testament to life's enduring legacy across the eons.</answer>\n</article>\nFor troubleshooting, visit: https://python.langchain.com/docs/troubleshooting/errors/OUTPUT_PARSING_FAILURE \n"
     ]
    }
   ],
   "source": [
    "test_chain = (\n",
    "    prompt_system_format.partial(format_instructions=prompt_xml_format_pyxml)\n",
    "    | llm_model\n",
    "    | pydantic_parser\n",
    ")\n",
    "\n",
    "output = test_chain.invoke(dict(question=questions[0]))"
   ]
  },
  {
   "cell_type": "code",
   "execution_count": null,
   "metadata": {},
   "outputs": [],
   "source": []
  }
 ],
 "metadata": {
  "kernelspec": {
   "display_name": ".venv",
   "language": "python",
   "name": "python3"
  },
  "language_info": {
   "codemirror_mode": {
    "name": "ipython",
    "version": 3
   },
   "file_extension": ".py",
   "mimetype": "text/x-python",
   "name": "python",
   "nbconvert_exporter": "python",
   "pygments_lexer": "ipython3",
   "version": "3.12.3"
  }
 },
 "nbformat": 4,
 "nbformat_minor": 2
}
