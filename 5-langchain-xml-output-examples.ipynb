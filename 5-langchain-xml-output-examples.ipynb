{
 "cells": [
  {
   "cell_type": "markdown",
   "metadata": {},
   "source": [
    "## Using LangChain to get structured outputs\n"
   ]
  },
  {
   "cell_type": "code",
   "execution_count": 1,
   "metadata": {},
   "outputs": [],
   "source": [
    "from langchain.prompts import ChatPromptTemplate\n",
    "from langchain_anthropic import ChatAnthropic\n",
    "from langchain_ollama import ChatOllama\n",
    "from langchain_fireworks import ChatFireworks\n",
    "\n",
    "from langchain.output_parsers import XMLOutputParser, PydanticOutputParser\n",
    "\n",
    "from typing import Optional\n",
    "from pydantic import BaseModel, Field\n",
    "from pydantic_xml import BaseXmlModel, element\n",
    "from typing_extensions import Annotated, TypedDict"
   ]
  },
  {
   "cell_type": "code",
   "execution_count": 3,
   "metadata": {},
   "outputs": [],
   "source": [
    "ANTHROPIC_API_KEY = \"<API KEY>\"\n",
    "FIREWORKS_API_KEY = \"<API KEY>\""
   ]
  },
  {
   "cell_type": "markdown",
   "metadata": {},
   "source": [
    "Let's start by creating a LLM model to run our structured output queries. Use a temperature of 0 to improve structured output generation (but at the cost of \"creativity\").\n"
   ]
  },
  {
   "cell_type": "code",
   "execution_count": null,
   "metadata": {},
   "outputs": [],
   "source": [
    "# LLM parameters\n",
    "temperature = 0.8"
   ]
  },
  {
   "cell_type": "markdown",
   "metadata": {},
   "source": [
    "Define a LLM model below\n"
   ]
  },
  {
   "cell_type": "code",
   "execution_count": null,
   "metadata": {},
   "outputs": [],
   "source": [
    "llm_model = ChatAnthropic(\n",
    "    model=\"claude-3-5-haiku-20241022\",\n",
    "    temperature=temperature,\n",
    "    api_key=ANTHROPIC_API_KEY,\n",
    ")\n",
    "# llm_model = ChatOllama(model=\"llama3.2\", temperature=temperature)\n",
    "# llm_model = ChatFireworks(\n",
    "#     model_name=\"accounts/fireworks/models/llama-v3p1-70b-instruct\",\n",
    "#     temperature=temperature,\n",
    "#     api_key=FIREWORKS_API_KEY,\n",
    "# )"
   ]
  },
  {
   "cell_type": "markdown",
   "metadata": {},
   "source": [
    "Check it works\n"
   ]
  },
  {
   "cell_type": "code",
   "execution_count": 4,
   "metadata": {},
   "outputs": [
    {
     "name": "stdout",
     "output_type": "stream",
     "text": [
      "Why did the zebra refuse to play poker?\n",
      "\n",
      "Because he always got striped of his money! (get it?)\n"
     ]
    }
   ],
   "source": [
    "print(llm_model.invoke(\"Tell me a joke about zebras\").content)"
   ]
  },
  {
   "cell_type": "markdown",
   "metadata": {},
   "source": [
    "### Problem setup and prompt\n"
   ]
  },
  {
   "cell_type": "code",
   "execution_count": 5,
   "metadata": {},
   "outputs": [],
   "source": [
    "test_science_prompt_txt = \"\"\"\n",
    "You are a professional science writer tasked with responding to members of\n",
    "the general public who write in asking questions about science.\n",
    "Write an article responding to a writer's question for publication in a\n",
    "science magazine intended for a general readership with a high-school education.\n",
    "You should write clearly and compellingly, include all relavent context,\n",
    "and provide motivating stories where applicable.\n",
    "\n",
    "Your response must be less than 200 words.\n",
    "\n",
    "The question given to you is the following:\n",
    "{question}\n",
    "\"\"\""
   ]
  },
  {
   "cell_type": "code",
   "execution_count": 6,
   "metadata": {},
   "outputs": [],
   "source": [
    "prompt_system_format = ChatPromptTemplate.from_messages(\n",
    "    [\n",
    "        (\n",
    "            \"system\",\n",
    "            \"Write an article in the provided format that answers the user question.\\n{format_instructions}\",\n",
    "        ),\n",
    "        (\"human\", test_science_prompt_txt),\n",
    "    ]\n",
    ")"
   ]
  },
  {
   "cell_type": "markdown",
   "metadata": {},
   "source": [
    "### Manual XML schema specification\n"
   ]
  },
  {
   "cell_type": "code",
   "execution_count": 9,
   "metadata": {},
   "outputs": [],
   "source": [
    "prompt_xml_format = \"\"\"\n",
    "Your answers must strictly adhere to the following XML format:\n",
    "\n",
    "<article>\n",
    "<title>\n",
    "[Title of the article.]\n",
    "</title>\n",
    "\n",
    "<problem>\n",
    "[Summary of the writer's question, write concisely.]\n",
    "</problem>\n",
    "\n",
    "<answer>\n",
    "[Answer the writer's question.]\n",
    "</answer>\n",
    "</article>\n",
    "\"\"\""
   ]
  },
  {
   "cell_type": "code",
   "execution_count": 10,
   "metadata": {},
   "outputs": [],
   "source": [
    "xml_parser = XMLOutputParser()"
   ]
  },
  {
   "cell_type": "code",
   "execution_count": 11,
   "metadata": {},
   "outputs": [],
   "source": [
    "test_chain = (\n",
    "    prompt_system_format.partial(format_instructions=prompt_xml_format)\n",
    "    | llm_model\n",
    "    | xml_parser\n",
    ")\n",
    "\n",
    "output = test_chain.invoke(dict(question=\"What is the oldest recorded fossil?\"))"
   ]
  },
  {
   "cell_type": "code",
   "execution_count": 12,
   "metadata": {},
   "outputs": [
    {
     "data": {
      "text/plain": [
       "{'article': [{'title': 'Uncovering the Oldest Record of Life on Earth'},\n",
       "  {'problem': '\\nWhat is the oldest recorded fossil, and how did it end up in the ground for so long?'},\n",
       "  {'answer': \"\\nThe oldest recorded fossil dates back to around 3.46 billion years ago, during a time known as the Eoarchean era of the Precambrian period. This ancient relic is a stromatolite, a layered structure created by microbial life forms that lived in a shallow sea. The fossil was discovered in Western Australia's Apex Chert formation and is considered one of the most important discoveries in the field of astrobiology.\\n\\nThe stromatolite's incredible age is a testament to the resilience and adaptability of life on Earth. It's hard to imagine how something so ancient could have survived for over 3 billion years, but it's a reminder that even in the harshest environments, life can thrive and leave behind its mark. The discovery of this fossil has also shed light on the origins of life on our planet, providing valuable insights into the evolution of our Earth.\"}]}"
      ]
     },
     "execution_count": 12,
     "metadata": {},
     "output_type": "execute_result"
    }
   ],
   "source": [
    "output"
   ]
  },
  {
   "cell_type": "markdown",
   "metadata": {},
   "source": [
    "### LangChain Output Parsers\n"
   ]
  },
  {
   "cell_type": "code",
   "execution_count": 7,
   "metadata": {},
   "outputs": [],
   "source": [
    "xml_parser = XMLOutputParser(\n",
    "    name=\"article\", tags=[\"article\", \"title\", \"problem\", \"answer\"]\n",
    ")"
   ]
  },
  {
   "cell_type": "code",
   "execution_count": 8,
   "metadata": {},
   "outputs": [],
   "source": [
    "test_chain = (\n",
    "    prompt_system_format.partial(\n",
    "        format_instructions=xml_parser.get_format_instructions()\n",
    "    )\n",
    "    | llm_model\n",
    "    | xml_parser\n",
    ")\n",
    "\n",
    "output = test_chain.invoke(dict(question=\"What is the oldest recorded fossil?\"))"
   ]
  },
  {
   "cell_type": "code",
   "execution_count": 9,
   "metadata": {},
   "outputs": [
    {
     "data": {
      "text/plain": [
       "{'article': [{'title': 'Uncovering the Ancient Past'},\n",
       "  {'problem': 'What is the oldest recorded fossil?'},\n",
       "  {'answer': 'The oldest recorded fossil is a mystery that has captivated scientists and fossil hunters for centuries. While we can\\'t pinpoint a single, definitive fossil as the \"oldest,\" researchers have discovered some remarkable ancient remains.\\n\\n    One of the most significant discoveries was made in 2010 by a team of paleontologists in Morocco. They unearthed fossils of ancient microorganisms, known as stromatolites, which date back an astonishing 3.5 billion years! These ancient organisms were the first to produce oxygen and played a crucial role in shaping our planet\\'s atmosphere.\\n\\n    Other contenders for oldest recorded fossil include ancient fish-like creatures from China, estimated to be around 1.2 billion years old, and even evidence of ancient life on Earth dating back an astonishing 4.4 billion years!'}]}"
      ]
     },
     "execution_count": 9,
     "metadata": {},
     "output_type": "execute_result"
    }
   ],
   "source": [
    "output"
   ]
  },
  {
   "cell_type": "code",
   "execution_count": 17,
   "metadata": {},
   "outputs": [
    {
     "name": "stdout",
     "output_type": "stream",
     "text": [
      "The output should be formatted as a XML file.\n",
      "1. Output should conform to the tags below.\n",
      "2. If tags are not given, make them on your own.\n",
      "3. Remember to always open and close all the tags.\n",
      "\n",
      "As an example, for the tags [\"foo\", \"bar\", \"baz\"]:\n",
      "1. String \"<foo>\n",
      "   <bar>\n",
      "      <baz></baz>\n",
      "   </bar>\n",
      "</foo>\" is a well-formatted instance of the schema.\n",
      "2. String \"<foo>\n",
      "   <bar>\n",
      "   </foo>\" is a badly-formatted instance.\n",
      "3. String \"<foo>\n",
      "   <tag>\n",
      "   </tag>\n",
      "</foo>\" is a badly-formatted instance.\n",
      "\n",
      "Here are the output tags:\n",
      "```\n",
      "['article', 'title', 'problem', 'answer']\n",
      "```\n"
     ]
    }
   ],
   "source": [
    "print(xml_parser.get_format_instructions())"
   ]
  },
  {
   "cell_type": "markdown",
   "metadata": {},
   "source": [
    "### A different approach with Pydantic XML\n"
   ]
  },
  {
   "cell_type": "code",
   "execution_count": 2,
   "metadata": {},
   "outputs": [],
   "source": [
    "from pydantic_xml import BaseXmlModel, element\n",
    "\n",
    "\n",
    "class ArticleXML(BaseXmlModel, tag=\"article\"):\n",
    "    title: str = element(default=\"[Title of the article]\")\n",
    "    problem: str = element(\n",
    "        default=\"[Summary of the writer's question, write concisely]\"\n",
    "    )\n",
    "    answer: str = element(default=\"[Answer the writer's question]\")"
   ]
  },
  {
   "cell_type": "code",
   "execution_count": null,
   "metadata": {},
   "outputs": [
    {
     "name": "stdout",
     "output_type": "stream",
     "text": [
      "<article>\n",
      "  <title>[Title of the article]</title>\n",
      "  <problem>[Summary of the writer's question, write concisely]</problem>\n",
      "  <answer>[Answer the writer's question]</answer>\n",
      "</article>\n",
      "\n"
     ]
    }
   ],
   "source": [
    "# Note: Pretty printing requires the lxml library\n",
    "print(ArticleXML().to_xml(pretty_print=True).decode())"
   ]
  },
  {
   "cell_type": "code",
   "execution_count": 18,
   "metadata": {},
   "outputs": [],
   "source": [
    "xml_schema = ArticleXML().to_xml(pretty_print=True).decode()\n",
    "\n",
    "prompt_xml_format_pyxml = f\"\"\"\n",
    "Your answers must strictly adhere to the following XML format:\n",
    "\n",
    "{xml_schema}\n",
    "\"\"\""
   ]
  },
  {
   "cell_type": "markdown",
   "metadata": {},
   "source": [
    "Numeric types will have non-numeric default (This seems like a bug here!)\n"
   ]
  },
  {
   "cell_type": "code",
   "execution_count": 19,
   "metadata": {},
   "outputs": [
    {
     "data": {
      "text/plain": [
       "'[An arbitrary number that is most relevant to the question.]'"
      ]
     },
     "execution_count": 19,
     "metadata": {},
     "output_type": "execute_result"
    }
   ],
   "source": [
    "class ArticleWithNumberXML(BaseXmlModel, tag=\"article\"):\n",
    "    title: str = element(default=\"[Title of the article]\")\n",
    "    number: int = element(\n",
    "        default=\"[An arbitrary number that is most relevant to the question.]\"\n",
    "    )\n",
    "\n",
    "\n",
    "a = ArticleWithNumberXML()\n",
    "a.number"
   ]
  },
  {
   "cell_type": "markdown",
   "metadata": {},
   "source": [
    "Heirarchical schemas need careful consideration\n"
   ]
  },
  {
   "cell_type": "code",
   "execution_count": 20,
   "metadata": {},
   "outputs": [],
   "source": [
    "from pydantic_xml import BaseXmlModel, element\n",
    "from typing import Optional\n",
    "\n",
    "\n",
    "# Nested types\n",
    "class HistoricalEventXML(BaseXmlModel):\n",
    "    \"\"\"The year and explanation of a historical event.\"\"\"\n",
    "\n",
    "    year: Optional[int] = element(default=\"[The year of the historical event]\")\n",
    "    description: str = element(\n",
    "        default=\"[A clear description of what happened in this event]\"\n",
    "    )\n",
    "\n",
    "\n",
    "class ArticleWithHistory(BaseXmlModel, tag=\"article\"):\n",
    "    title: str = element(default=\"[Title of the article]\")\n",
    "    problem: str = element(\n",
    "        default=\"[Summary of the writer's question, write concisely]\"\n",
    "    )\n",
    "    historical_event: HistoricalEventXML = element(default=HistoricalEventXML())"
   ]
  },
  {
   "cell_type": "code",
   "execution_count": 21,
   "metadata": {},
   "outputs": [
    {
     "name": "stdout",
     "output_type": "stream",
     "text": [
      "<article>\n",
      "  <title>[Title of the article]</title>\n",
      "  <problem>[Summary of the writer's question, write concisely]</problem>\n",
      "  <historical_event>\n",
      "    <year>[The year of the historical event]</year>\n",
      "    <description>[A clear description of what happened in this event]</description>\n",
      "  </historical_event>\n",
      "</article>\n",
      "\n"
     ]
    }
   ],
   "source": [
    "print(ArticleWithHistory().to_xml(pretty_print=True).decode())"
   ]
  },
  {
   "cell_type": "markdown",
   "metadata": {},
   "source": [
    "### Pydantic XML with a prompt instructions helper class\n"
   ]
  },
  {
   "cell_type": "code",
   "execution_count": 22,
   "metadata": {},
   "outputs": [],
   "source": [
    "from pydantic_xml import BaseXmlModel, element\n",
    "from experiment_xml import pydantic_to_xml_instructions\n",
    "\n",
    "\n",
    "# Nested types\n",
    "class HistoricalEventXML(BaseXmlModel):\n",
    "    year: str = element(description=\"The year of the historical event\")\n",
    "    summary: str = element(\n",
    "        description=\"A clear description of what happened in this event\"\n",
    "    )\n",
    "\n",
    "\n",
    "class ArticleWithHistoryXML(BaseXmlModel, tag=\"article\"):\n",
    "    title: str = element(description=\"Title of the article\")\n",
    "    problem: str = element(\n",
    "        description=\"Summary of the writer's question, write concisely\"\n",
    "    )\n",
    "    historical_event: HistoricalEventXML = element(\n",
    "        description=\"The year and explanation of a historical event\"\n",
    "    )"
   ]
  },
  {
   "cell_type": "markdown",
   "metadata": {},
   "source": [
    "Using a helper function to create the\n"
   ]
  },
  {
   "cell_type": "code",
   "execution_count": 23,
   "metadata": {},
   "outputs": [
    {
     "name": "stdout",
     "output_type": "stream",
     "text": [
      "You must respond only in XML using the following schema.\n",
      "Do not provide any output outside the first and last XML tags.\n",
      "\n",
      "<article>\n",
      "  <!---->\n",
      "  <title>\n",
      "    {Title of the article - must be type str}\n",
      "  </title>\n",
      "  <problem>\n",
      "    {Summary of the writer's question, write concisely - must be type str}\n",
      "  </problem>\n",
      "<historical_event>\n",
      "  <!---->\n",
      "  <year>\n",
      "    {The year of the historical event - must be type str}\n",
      "  </year>\n",
      "  <summary>\n",
      "    {A clear description of what happened in this event - must be type str}\n",
      "  </summary>\n",
      "</historical_event>\n",
      "</article>\n"
     ]
    }
   ],
   "source": [
    "print(pydantic_to_xml_instructions(ArticleWithHistoryXML))"
   ]
  },
  {
   "cell_type": "code",
   "execution_count": 24,
   "metadata": {},
   "outputs": [],
   "source": [
    "prompt_format = ChatPromptTemplate.from_messages(\n",
    "    [\n",
    "        (\n",
    "            \"human\",\n",
    "            \"Write an article in the provided format that answers the user question.\"\n",
    "            \"\\n{format_instructions}\",\n",
    "        ),\n",
    "        (\"human\", test_science_prompt_txt),\n",
    "    ]\n",
    ")"
   ]
  },
  {
   "cell_type": "code",
   "execution_count": 25,
   "metadata": {},
   "outputs": [],
   "source": [
    "test_chain = (\n",
    "    prompt_format.partial(\n",
    "        format_instructions=pydantic_to_xml_instructions(ArticleWithHistoryXML)\n",
    "    )\n",
    "    | llm_model\n",
    ")\n",
    "\n",
    "output = test_chain.invoke(dict(question=\"What is the oldest recorded fossil?\"))"
   ]
  },
  {
   "cell_type": "code",
   "execution_count": 26,
   "metadata": {},
   "outputs": [
    {
     "data": {
      "text/plain": [
       "ArticleWithHistoryXML(title='The Oldest Recorded Fossil: A Window into the Past', problem='What is the oldest recorded fossil and how was it discovered?', historical_event=HistoricalEventXML(year='3.4 billion years old', summary=\"Astronauts on board NASA's Apollo 11 mission in 1969 discovered a fossilized piece of stromatolite, a layered structure created by ancient microorganisms.\"))"
      ]
     },
     "execution_count": 26,
     "metadata": {},
     "output_type": "execute_result"
    }
   ],
   "source": [
    "ArticleWithHistoryXML.from_xml(output.content)"
   ]
  },
  {
   "cell_type": "markdown",
   "metadata": {},
   "source": [
    "But we can't use the `PydanticOutputParser` with a Pydantic XML object as it assumes JSON output.\n"
   ]
  },
  {
   "cell_type": "code",
   "execution_count": 27,
   "metadata": {},
   "outputs": [],
   "source": [
    "pydantic_parser = PydanticOutputParser(pydantic_object=ArticleXML)"
   ]
  },
  {
   "cell_type": "code",
   "execution_count": 28,
   "metadata": {},
   "outputs": [
    {
     "ename": "OutputParserException",
     "evalue": "Invalid json output: <article>\n  <title>The Oldest Recorded Fossil</title>\n  <problem>What is the oldest recorded fossil?</problem>\n  <answer>\n    The oldest recorded fossil is that of Eoapto Ceratita, a species of extinct marine snail, which dates back an astonishing 544 million years to the Cambrian period. This remarkable find was discovered in the Burgess Shale in British Columbia, Canada, and has provided significant insights into the evolution of life on Earth during this critical period.\n\n    The fossil was first identified by paleontologist Joseph McLaughlin in 2012, and its discovery has been hailed as a major breakthrough in the field of paleontology. The Eoapto Ceratita fossil is not only an important find but also sheds light on the complex relationships between different species that existed during this time.\n\n    This remarkable discovery serves as a testament to the rich history of life on our planet and highlights the importance of continued exploration and research in the field of paleontology.</answer>\n</article>\nFor troubleshooting, visit: https://python.langchain.com/docs/troubleshooting/errors/OUTPUT_PARSING_FAILURE ",
     "output_type": "error",
     "traceback": [
      "\u001b[0;31mOutputParserException\u001b[0m\u001b[0;31m:\u001b[0m Invalid json output: <article>\n  <title>The Oldest Recorded Fossil</title>\n  <problem>What is the oldest recorded fossil?</problem>\n  <answer>\n    The oldest recorded fossil is that of Eoapto Ceratita, a species of extinct marine snail, which dates back an astonishing 544 million years to the Cambrian period. This remarkable find was discovered in the Burgess Shale in British Columbia, Canada, and has provided significant insights into the evolution of life on Earth during this critical period.\n\n    The fossil was first identified by paleontologist Joseph McLaughlin in 2012, and its discovery has been hailed as a major breakthrough in the field of paleontology. The Eoapto Ceratita fossil is not only an important find but also sheds light on the complex relationships between different species that existed during this time.\n\n    This remarkable discovery serves as a testament to the rich history of life on our planet and highlights the importance of continued exploration and research in the field of paleontology.</answer>\n</article>\nFor troubleshooting, visit: https://python.langchain.com/docs/troubleshooting/errors/OUTPUT_PARSING_FAILURE \n"
     ]
    }
   ],
   "source": [
    "test_chain = (\n",
    "    prompt_format.partial(format_instructions=pydantic_to_xml_instructions(ArticleXML))\n",
    "    | llm_model\n",
    "    | pydantic_parser\n",
    ")\n",
    "\n",
    "output = test_chain.invoke(dict(question=\"What is the oldest recorded fossil?\"))"
   ]
  },
  {
   "cell_type": "code",
   "execution_count": null,
   "metadata": {},
   "outputs": [],
   "source": []
  }
 ],
 "metadata": {
  "kernelspec": {
   "display_name": ".venv",
   "language": "python",
   "name": "python3"
  },
  "language_info": {
   "codemirror_mode": {
    "name": "ipython",
    "version": 3
   },
   "file_extension": ".py",
   "mimetype": "text/x-python",
   "name": "python",
   "nbconvert_exporter": "python",
   "pygments_lexer": "ipython3",
   "version": "3.12.3"
  }
 },
 "nbformat": 4,
 "nbformat_minor": 2
}
