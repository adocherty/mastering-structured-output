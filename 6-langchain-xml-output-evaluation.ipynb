{
 "cells": [
  {
   "cell_type": "markdown",
   "metadata": {},
   "source": [
    "## Using LangChain to get structured outputs\n"
   ]
  },
  {
   "cell_type": "code",
   "execution_count": 1,
   "metadata": {},
   "outputs": [
    {
     "name": "stdout",
     "output_type": "stream",
     "text": [
      "Exception reporting mode: Minimal\n"
     ]
    }
   ],
   "source": [
    " %xmode minimal"
   ]
  },
  {
   "cell_type": "code",
   "execution_count": 2,
   "metadata": {},
   "outputs": [],
   "source": [
    "from langchain.prompts import ChatPromptTemplate\n",
    "from langchain_anthropic import ChatAnthropic\n",
    "from langchain_ollama import ChatOllama\n",
    "from langchain_fireworks import ChatFireworks\n",
    "\n",
    "from langchain.output_parsers import XMLOutputParser, PydanticOutputParser\n",
    "\n",
    "from typing import Optional\n",
    "from pydantic import BaseModel, Field\n",
    "from typing_extensions import Annotated, TypedDict"
   ]
  },
  {
   "cell_type": "code",
   "execution_count": 4,
   "metadata": {},
   "outputs": [],
   "source": [
    "ANTHROPIC_API_KEY = \"<API KEY>\"\n",
    "FIREWORKS_API_KEY = \"<API KEY>\""
   ]
  },
  {
   "cell_type": "code",
   "execution_count": 3,
   "metadata": {},
   "outputs": [],
   "source": [
    "import streamlit as st\n",
    "\n",
    "LANGSMITH_API_KEY = st.secrets[\"api_keys\"][\"LANGSMITH_API_KEY\"]\n",
    "ANTHROPIC_API_KEY = st.secrets[\"api_keys\"][\"ANTHROPIC_API_KEY\"]\n",
    "FIREWORKS_API_KEY = st.secrets[\"api_keys\"][\"FIREWORKS_API_KEY\"]"
   ]
  },
  {
   "cell_type": "markdown",
   "metadata": {},
   "source": [
    "Let's start by creating a LLM model to run our structured output queries. Use a temperature of 0 to improve structured output generation (but at the cost of \"creativity\").\n"
   ]
  },
  {
   "cell_type": "code",
   "execution_count": 4,
   "metadata": {},
   "outputs": [],
   "source": [
    "# LLM parameters\n",
    "temperature = 0.8\n",
    "timeout = 30\n",
    "num_ctx = 8192\n",
    "num_predict = 4096"
   ]
  },
  {
   "cell_type": "markdown",
   "metadata": {},
   "source": [
    "### Problem setup and prompt\n"
   ]
  },
  {
   "cell_type": "code",
   "execution_count": 5,
   "metadata": {},
   "outputs": [],
   "source": [
    "test_science_prompt_txt = \"\"\"\n",
    "You are a professional science writer tasked with responding to members of\n",
    "the general public who write in asking questions about science.\n",
    "Write an article responding to a writer's question for publication in a\n",
    "science magazine intended for a general readership with a high-school education.\n",
    "You should write clearly and compellingly, include all relavent context,\n",
    "and provide motivating stories where applicable.\n",
    "\n",
    "Your response must be less than 200 words.\n",
    "\n",
    "The question given to you is the following:\n",
    "{question}\n",
    "\"\"\"\n",
    "\n",
    "questions = [\n",
    "    \"What is the oldest recorded fossil?\",\n",
    "    \"What is a black hole?\",\n",
    "    \"How far away is the sun?\",\n",
    "    \"Which other planet in the Solar System has a surface gravity closest to that of the Earth?\",\n",
    "    \"Eris, Haumea, Makemake and Ceres are all examples of what?\",\n",
    "    \"Why does earth have seasons? Do other planets exhibit seasons too?\",\n",
    "    \"What causes the aurora borealis?\",\n",
    "    \"Why is the sky blue?\",\n",
    "    \"How do bees communicate?\",\n",
    "    \"What is the smallest unit of life?\",\n",
    "    \"How do plants make their own food?\",\n",
    "    \"Why do we dream?\",\n",
    "    \"What is the theory of relativity?\",\n",
    "    \"How do volcanoes erupt?\",\n",
    "    \"What is the speed of light?\",\n",
    "    \"How do magnets work?\",\n",
    "    \"What is the purpose of DNA?\",\n",
    "    \"What are the different types of galaxies?\",\n",
    "    \"Why do some animals hibernate?\",\n",
    "    \"How do vaccines work?\",\n",
    "]"
   ]
  },
  {
   "cell_type": "code",
   "execution_count": 6,
   "metadata": {},
   "outputs": [],
   "source": [
    "prompt_direct = ChatPromptTemplate.from_template(test_science_prompt_txt)\n",
    "\n",
    "prompt_system_format = ChatPromptTemplate.from_messages(\n",
    "    [\n",
    "        (\n",
    "            \"system\",\n",
    "            \"Answer the user query.\\n{format_instructions}\",\n",
    "        ),\n",
    "        (\"human\", test_science_prompt_txt),\n",
    "    ]\n",
    ")\n",
    "\n",
    "prompt_user_format = ChatPromptTemplate.from_template(\n",
    "    test_science_prompt_txt + \"\\n{format_instructions}\"\n",
    ")"
   ]
  },
  {
   "cell_type": "markdown",
   "metadata": {},
   "source": [
    "#### XML schema from Pydantic models\n"
   ]
  },
  {
   "cell_type": "code",
   "execution_count": null,
   "metadata": {},
   "outputs": [],
   "source": [
    "# Simple types\n",
    "class ArticleResponse1(BaseModel):\n",
    "    \"\"\"Structured article for publication answering a reader's question.\"\"\"\n",
    "\n",
    "    title: str = Field(description=\"Title of the article\")\n",
    "    answer: str = Field(\n",
    "        description=\"Provide a detailed description of historical events to answer the question.\"\n",
    "    )\n",
    "    number: int = Field(\n",
    "        description=\"An arbitraty number that is most relevant to the question.\"\n",
    "    )\n",
    "\n",
    "\n",
    "# Lists of simple types\n",
    "class ArticleResponse2(BaseModel):\n",
    "    \"\"\"Structured article for publication answering a reader's question.\"\"\"\n",
    "\n",
    "    title: str = Field(description=\"Title of the article\")\n",
    "    further_questions: list[str] = Field(\n",
    "        description=\"A list of related questions that may be of interest to the readers.\"\n",
    "    )\n",
    "\n",
    "\n",
    "# Nested types\n",
    "class HistoricalEvent(BaseModel):\n",
    "    \"\"\"The year and explanation of a historical event.\"\"\"\n",
    "\n",
    "    year: int = Field(description=\"The year of the historical event\")\n",
    "    description: str = Field(\n",
    "        description=\"A clear description of what happened in this event\"\n",
    "    )\n",
    "\n",
    "\n",
    "class ArticleResponse3(BaseModel):\n",
    "    \"\"\"Structured article for publication answering a reader's question.\"\"\"\n",
    "\n",
    "    title: str = Field(description=\"Title of the article\")\n",
    "    historical_event_1: HistoricalEvent = Field(\n",
    "        description=\"Provide a detailed description of a first historical event to answer the question.\"\n",
    "    )\n",
    "    historical_event_2: HistoricalEvent = Field(\n",
    "        description=\"Provide a detailed description of a second historical event to answer the question.\"\n",
    "    )\n",
    "\n",
    "\n",
    "# Lists of custom types\n",
    "class ArticleResponse4(BaseModel):\n",
    "    \"\"\"Structured article for publication answering a reader's question.\"\"\"\n",
    "\n",
    "    title: str = Field(description=\"Title of the article\")\n",
    "    historical_timeline: list[HistoricalEvent] = Field(\n",
    "        description=\"Provide a compelling account of the historical context of the question\"\n",
    "    )\n",
    "\n",
    "\n",
    "# Nested types\n",
    "class CriicalAnalysis(BaseModel):\n",
    "    \"\"\"A critique of interpretations of historical events\"\"\"\n",
    "\n",
    "    historical_event: HistoricalEvent = Field(\n",
    "        description=\"Provide an overview of the facts of a historical event\"\n",
    "    )\n",
    "    common_understanding: str = Field(description=\"Agreed interpretation of event\")\n",
    "    analysis: str = Field(\n",
    "        description=\"Critical analysis of the event and opposing interpretations\"\n",
    "    )\n",
    "\n",
    "\n",
    "# Multiple nested custom types\n",
    "class ArticleResponse5(BaseModel):\n",
    "    \"\"\"Structured article for publication answering a reader's question.\"\"\"\n",
    "\n",
    "    title: str = Field(description=\"Title of the article\")\n",
    "    historical_timeline: list[HistoricalEvent] = Field(\n",
    "        description=\"Provide a compelling account of the historical context of the question\"\n",
    "    )\n",
    "    critique: list[CriicalAnalysis] = Field(\n",
    "        description=\"A list of key historical events and an analysis of them\"\n",
    "    )\n",
    "\n",
    "\n",
    "structured_formats_pydantic = [\n",
    "    dict(pydantic=schema)\n",
    "    for schema in [\n",
    "        ArticleResponse1,\n",
    "        ArticleResponse2,\n",
    "        ArticleResponse3,\n",
    "        ArticleResponse4,\n",
    "    ]\n",
    "]"
   ]
  },
  {
   "cell_type": "code",
   "execution_count": null,
   "metadata": {},
   "outputs": [
    {
     "name": "stdout",
     "output_type": "stream",
     "text": [
      "<ArticleResponse2>\n",
      "  <title>\n",
      "    Type: string\n",
      "    Title of the article\n",
      "  </title>\n",
      "  <further_questions>\n",
      "    [Type: array]\n",
      "    [First instance of A list of related questions that may be of interest to the readers.]\n",
      "  </further_questions>\n",
      "  <further_questions>\n",
      "    [Type: array]\n",
      "    [Next instance of A list of related questions that may be of interest to the readers.]\n",
      "  </further_questions>\n",
      "  <further_questions>\n",
      "    [ ... ]\n",
      "  </further_questions>\n",
      "</ArticleResponse2>\n"
     ]
    }
   ],
   "source": [
    "def pydantic_to_xml_schema(model):\n",
    "    # Get the JSON schema representation of the model\n",
    "    schema = model.model_json_schema()\n",
    "\n",
    "    # Start with root element named after the model\n",
    "    xml = f\"<{schema['title']}>\\n\"\n",
    "\n",
    "    # Process each property\n",
    "    for field_name, field_info in schema[\"properties\"].items():\n",
    "        field_type = field_info.get(\"type\", \"any\")\n",
    "        description = field_info.get(\"description\", \"\")\n",
    "\n",
    "        if field_type == \"array\":\n",
    "            xml += f\"  <{field_name}>\\n\"\n",
    "            xml += f\"    [Type: {field_type}]\\n\"\n",
    "            xml += f\"    [First instance of {description}]\\n\"\n",
    "            xml += f\"  </{field_name}>\\n\"\n",
    "            xml += f\"  <{field_name}>\\n\"\n",
    "            xml += f\"    [Type: {field_type}]\\n\"\n",
    "            xml += f\"    [Next instance of {description}]\\n\"\n",
    "            xml += f\"  </{field_name}>\\n\"\n",
    "            xml += f\"  <{field_name}>\\n\"\n",
    "            xml += f\"    [ ... ]\\n\"\n",
    "            xml += f\"  </{field_name}>\\n\"\n",
    "\n",
    "        else:\n",
    "            # Add field as XML element with type comment and description\n",
    "            xml += f\"  <{field_name}>\\n\"\n",
    "            xml += f\"    Type: {field_type}\\n\"\n",
    "            xml += f\"    {description}\\n\"\n",
    "            xml += f\"  </{field_name}>\\n\"\n",
    "\n",
    "    xml += f\"</{schema['title']}>\"\n",
    "\n",
    "    return xml\n",
    "\n",
    "\n",
    "print(pydantic_to_xml_schema(ArticleResponse2))"
   ]
  },
  {
   "cell_type": "code",
   "execution_count": null,
   "metadata": {},
   "outputs": [],
   "source": []
  },
  {
   "cell_type": "markdown",
   "metadata": {},
   "source": [
    "#### Schema using Pydantic XML\n"
   ]
  },
  {
   "cell_type": "code",
   "execution_count": 42,
   "metadata": {},
   "outputs": [],
   "source": [
    "from pydantic_xml import BaseXmlModel, element, attr\n",
    "\n",
    "\n",
    "class ArticleResponse1XML(BaseXmlModel, tag=\"article\"):\n",
    "    \"\"\"Structured article for publication answering a reader's question.\"\"\"\n",
    "\n",
    "    title: str = element(description=\"Title of the article\")\n",
    "    answer: str = element(\n",
    "        description=\"Provide a detailed description of historical events to answer the question\"\n",
    "    )\n",
    "    number: int = element(description=\"A number that is most relevant to the question.\")\n",
    "\n",
    "\n",
    "# Lists of simple types\n",
    "class ArticleResponse2XML(BaseXmlModel, tag=\"article\"):\n",
    "    \"\"\"Structured article for publication answering a reader's question.\"\"\"\n",
    "\n",
    "    title: str = element(description=\"Title of the article\")\n",
    "    answer: str = element(description=\"Answer the writer's question\")\n",
    "    further_questions: list[str] = element(\n",
    "        tag=\"further_question\",\n",
    "        description=\"A list of related questions that may be of interest to the readers.\",\n",
    "    )\n",
    "\n",
    "\n",
    "# Nested types\n",
    "class HistoricalEventXML(BaseXmlModel):\n",
    "    \"\"\"The year and explanation of a historical event.\"\"\"\n",
    "\n",
    "    year: str = element(description=\"The year of the historical event\")\n",
    "    event: str = element(\n",
    "        description=\"A clear and concise explanation of what happened in this event\"\n",
    "    )\n",
    "\n",
    "\n",
    "class ArticleResponse3XML(BaseXmlModel, title=\"article\"):\n",
    "    \"\"\"Structured article for publication answering a reader's question.\"\"\"\n",
    "\n",
    "    title: str = element(description=\"[Title of the article]\")\n",
    "    historical_event_1: HistoricalEventXML = element(\n",
    "        description=\"A first historical event relevant to the question\"\n",
    "    )\n",
    "    historical_event_2: HistoricalEventXML = element(\n",
    "        description=\"A second historical event relevant to the question\"\n",
    "    )\n",
    "\n",
    "\n",
    "# Lists of custom types\n",
    "class ArticleResponse4XML(BaseXmlModel):\n",
    "    \"\"\"Structured article for publication answering a reader's question.\"\"\"\n",
    "\n",
    "    title: str = element(default=\"Title of the article\")\n",
    "    historical_timeline: list[HistoricalEventXML] = (\n",
    "        \"A list of historical events relevant to the question\"\n",
    "    )\n",
    "\n",
    "\n",
    "structured_formats_xml = [\n",
    "    dict(pydantic=schema)\n",
    "    for schema in [\n",
    "        ArticleResponse1XML,\n",
    "        ArticleResponse2XML,\n",
    "        ArticleResponse3XML,\n",
    "        ArticleResponse4XML,\n",
    "    ]\n",
    "]"
   ]
  },
  {
   "cell_type": "code",
   "execution_count": 54,
   "metadata": {},
   "outputs": [
    {
     "name": "stdout",
     "output_type": "stream",
     "text": [
      "<article>\n",
      "  <!--Structured article for publication answering a reader's question.-->\n",
      "  <title>\n",
      "    Type: string\n",
      "    [Title of the article]\n",
      "  </title>\n",
      "<historical_event_1>\n",
      "  <!--The year and explanation of a historical event.-->\n",
      "  <year>\n",
      "    Type: string\n",
      "    The year of the historical event\n",
      "  </year>\n",
      "  <event>\n",
      "    Type: string\n",
      "    A clear and concise explanation of what happened in this event\n",
      "  </event>\n",
      "</historical_event_1><historical_event_2>\n",
      "  <!--The year and explanation of a historical event.-->\n",
      "  <year>\n",
      "    Type: string\n",
      "    The year of the historical event\n",
      "  </year>\n",
      "  <event>\n",
      "    Type: string\n",
      "    A clear and concise explanation of what happened in this event\n",
      "  </event>\n",
      "</historical_event_2></article>\n"
     ]
    }
   ],
   "source": [
    "def pydantic_to_xml_schema(model, root_name=None, root_description=None):\n",
    "    # Get the JSON schema representation of the model\n",
    "    if hasattr(model, \"model_json_schema\"):\n",
    "        schema = model.model_json_schema()\n",
    "    else:\n",
    "        schema = model\n",
    "\n",
    "    defs = schema.get(\"$defs\")\n",
    "\n",
    "    # Start with root element named after the model\n",
    "\n",
    "    _root_name = root_name if root_name else schema[\"title\"]\n",
    "    _root_desc = root_description if root_description else schema[\"description\"]\n",
    "    xml = f\"<{_root_name}>\\n  <!--{_root_desc}-->\\n\"\n",
    "\n",
    "    # Process each property\n",
    "    for field_name, field_info in schema[\"properties\"].items():\n",
    "        field_type = field_info.get(\"type\", \"any\")\n",
    "        description = field_info.get(\"description\", \"\")\n",
    "        ref = field_info.get(\"$ref\")\n",
    "\n",
    "        if ref:\n",
    "            # Look up ref\n",
    "            ref_name = ref.split(\"/\")[-1]\n",
    "            ref_class = defs.get(ref_name)\n",
    "            if ref_class:\n",
    "                xml += pydantic_to_xml_schema(ref_class, root_name=field_name)\n",
    "\n",
    "        elif field_type == \"array\":\n",
    "            xml += f\"  <{field_name}>\\n\"\n",
    "            xml += f\"    [Type: {field_type}]\\n\"\n",
    "            xml += f\"    [First instance of '{description}']\\n\"\n",
    "            xml += f\"  </{field_name}>\\n\"\n",
    "            xml += f\"  <{field_name}>\\n\"\n",
    "            xml += f\"    [Type: {field_type}]\\n\"\n",
    "            xml += f\"    [Next instance of '{description}']\\n\"\n",
    "            xml += f\"  </{field_name}>\\n\"\n",
    "            xml += f\"  <{field_name}>\\n\"\n",
    "            xml += f\"    [ ... ]\\n\"\n",
    "            xml += f\"  </{field_name}>\\n\"\n",
    "\n",
    "        else:\n",
    "            # Add field as XML element with type comment and description\n",
    "            xml += f\"  <{field_name}>\\n\"\n",
    "            xml += f\"    Type: {field_type}\\n\"\n",
    "            xml += f\"    {description}\\n\"\n",
    "            xml += f\"  </{field_name}>\\n\"\n",
    "\n",
    "    xml += f\"</{_root_name}>\"\n",
    "\n",
    "    return xml\n",
    "\n",
    "\n",
    "print(pydantic_to_xml_schema(ArticleResponse3XML))"
   ]
  },
  {
   "cell_type": "code",
   "execution_count": null,
   "metadata": {},
   "outputs": [],
   "source": []
  },
  {
   "cell_type": "markdown",
   "metadata": {},
   "source": [
    "### Evaluation\n"
   ]
  },
  {
   "cell_type": "code",
   "execution_count": null,
   "metadata": {},
   "outputs": [],
   "source": [
    "import pickle\n",
    "\n",
    "\n",
    "def run_experiment(\n",
    "    prompt_format,\n",
    "    questions,\n",
    "    llm_models,\n",
    "    method,\n",
    "    n_iter=1,\n",
    "    resume=0,\n",
    "    results_out=None,\n",
    "    save_file_name=None,\n",
    "):\n",
    "\n",
    "    if results_out is None:\n",
    "        structure_support_by_model = {}\n",
    "    else:\n",
    "        structure_support_by_model = results_out\n",
    "    n_questions = len(questions)\n",
    "\n",
    "    position = 0\n",
    "\n",
    "    # Iterate over models\n",
    "    for model_name, llm_model in llm_models.items():\n",
    "        structure_support_by_model[model_name] = {}\n",
    "\n",
    "        # Iterate over schemas\n",
    "        for structure in structured_formats:\n",
    "            pydantic_obj = structure[\"pydantic\"]\n",
    "            print(\n",
    "                f\"Model: {model_name}  Output: {pydantic_obj.__name__}   Pos: {position}\"\n",
    "            )\n",
    "\n",
    "            position += 1\n",
    "            if position < resume:\n",
    "                continue\n",
    "\n",
    "            # Format instructions if required\n",
    "            parser = PydanticOutputParser(pydantic_object=pydantic_obj)\n",
    "            prompt = prompt_format.partial(\n",
    "                format_instructions=parser.get_format_instructions()\n",
    "            )\n",
    "\n",
    "            # Iterate over questions\n",
    "            error_types = []\n",
    "            error_messages = []\n",
    "            outputs = []\n",
    "            output_valid = 0\n",
    "            for _ in range(n_iter):\n",
    "                for ii in range(n_questions):\n",
    "                    try:\n",
    "                        test_chain = prompt | llm_model.with_structured_output(\n",
    "                            pydantic_obj, method=method, include_raw=True\n",
    "                        )\n",
    "                        output = test_chain.invoke(dict(question=questions[ii]))\n",
    "                        outputs.append(output)\n",
    "\n",
    "                        # Typically Pydantic validation failure\n",
    "                        if output[\"parsing_error\"] is not None:\n",
    "                            error_types.append(\"parse_error\")\n",
    "                            error_messages.append(output[\"parsing_error\"])\n",
    "                            print(\"Error: Parse error\")\n",
    "\n",
    "                        # Typically function-calling failure\n",
    "                        elif output[\"parsed\"] is None:\n",
    "                            error_types.append(\"no_output\")\n",
    "                            print(\"Error: No output\")\n",
    "\n",
    "                        # This is not expected to happen\n",
    "                        elif not isinstance(output[\"parsed\"], pydantic_obj):\n",
    "                            error_types.append(\"unexpected_error\")\n",
    "                            raise RuntimeError(\"Unexpected error\")\n",
    "\n",
    "                        else:\n",
    "                            error_types.append(\"ok\")\n",
    "                            output_valid += 1\n",
    "\n",
    "                    # Other failures (typically function-calling not supported)\n",
    "                    except Exception as e:\n",
    "                        error_types.append(\"other_error\")\n",
    "                        print(f\"Error: Other error {type(e).__name__}\")\n",
    "                        error_messages.append(f\"{type(e).__name__}, {e}\")\n",
    "\n",
    "                    # Pause to avoid timeouts\n",
    "                    print(\".\", end=\"\")\n",
    "                    sleep(1)\n",
    "                print()\n",
    "\n",
    "            structure_support_by_model[model_name][pydantic_obj.__name__] = dict(\n",
    "                valid=output_valid / (n_iter * n_questions),\n",
    "                error_types=error_types,\n",
    "                errors=error_messages,\n",
    "                outputs=outputs,\n",
    "            )\n",
    "    if save_file_name:\n",
    "        with open(file=save_file_name, mode=\"wb\") as f:\n",
    "            pickle.dump(\n",
    "                dict(\n",
    "                    method=method,\n",
    "                    prompt=prompt,\n",
    "                    questions=questions,\n",
    "                    structure_support_by_model=structure_support_by_model,\n",
    "                ),\n",
    "                f,\n",
    "            )\n",
    "    return structure_support_by_model"
   ]
  },
  {
   "cell_type": "code",
   "execution_count": 11,
   "metadata": {},
   "outputs": [],
   "source": [
    "xml_parser = XMLOutputParser()"
   ]
  },
  {
   "cell_type": "code",
   "execution_count": 12,
   "metadata": {},
   "outputs": [],
   "source": [
    "test_chain = (\n",
    "    prompt_system_format.partial(format_instructions=prompt_xml_format)\n",
    "    | llm_model\n",
    "    | xml_parser\n",
    ")\n",
    "\n",
    "output = test_chain.invoke(dict(question=questions[0]))"
   ]
  },
  {
   "cell_type": "code",
   "execution_count": 13,
   "metadata": {},
   "outputs": [
    {
     "data": {
      "text/plain": [
       "{'article': [{'title': \"The Oldest Recorded Fossil: A Glimpse into Earth's Ancient Past\"},\n",
       "  {'problem': '\\nA reader asks about the oldest known fossil, seeking to understand its significance and what it reveals about early life on Earth.\\n'},\n",
       "  {'answer': \"\\nThe oldest recorded fossil is Stromatolite fossils found in Australia, estimated to be around 3.5 billion years old. These layered structures are created by the growth of cyanobacteria, a type of photosynthetic microorganism. Discovered in the Pilbara region, these stromatolites provide crucial evidence about early life on Earth.\\n\\nCyanobacteria played a vital role in transforming our planet's atmosphere through oxygen production, paving the way for more complex life forms to evolve. The discovery of these ancient fossils not only offers insights into biological processes from billions of years ago but also underscores the resilience and adaptability of life. Their existence suggests that early Earth had conditions suitable for microbial life despite harsh environments.\\n\\nStromatolites remind us of Earth's dynamic history, showcasing how simple organisms can profoundly impact the planet over geological time scales. This discovery continues to inspire scientists as they explore the origins of life and its evolution.\\n\"}]}"
      ]
     },
     "execution_count": 13,
     "metadata": {},
     "output_type": "execute_result"
    }
   ],
   "source": [
    "output"
   ]
  },
  {
   "cell_type": "markdown",
   "metadata": {},
   "source": [
    "### Pydantic XML would be nice!\n"
   ]
  },
  {
   "cell_type": "code",
   "execution_count": 17,
   "metadata": {},
   "outputs": [],
   "source": [
    "from pydantic_xml import BaseXmlModel, element\n",
    "\n",
    "\n",
    "class Article(BaseXmlModel, tag=\"article\"):\n",
    "    title: str = element(default=\"[Title of the article]\")\n",
    "    problem: str = element(\n",
    "        default=\"[Summary of the writer's question, write concisely]\"\n",
    "    )\n",
    "    answer: str = element(default=\"[Answer the writer's question]\")"
   ]
  },
  {
   "cell_type": "code",
   "execution_count": 18,
   "metadata": {},
   "outputs": [
    {
     "name": "stdout",
     "output_type": "stream",
     "text": [
      "<article>\n",
      "  <title>[Title of the article]</title>\n",
      "  <problem>[Summary of the writer's question, write concisely]</problem>\n",
      "  <answer>[Answer the writer's question]</answer>\n",
      "</article>\n",
      "\n"
     ]
    }
   ],
   "source": [
    "print(Article().to_xml(pretty_print=True).decode())"
   ]
  },
  {
   "cell_type": "code",
   "execution_count": 19,
   "metadata": {},
   "outputs": [],
   "source": [
    "xml_schema = Article().to_xml(pretty_print=True).decode()\n",
    "\n",
    "prompt_xml_format_pyxml = f\"\"\"\n",
    "Your answers must strictly adhere to the following XML format:\n",
    "\n",
    "{xml_schema}\n",
    "\"\"\""
   ]
  },
  {
   "cell_type": "markdown",
   "metadata": {},
   "source": [
    "But we can't use the `PydanticOutputParser` with a Pydantic XML object\n"
   ]
  },
  {
   "cell_type": "code",
   "execution_count": 24,
   "metadata": {},
   "outputs": [],
   "source": [
    "pydantic_parser = PydanticOutputParser(pydantic_object=Article)"
   ]
  },
  {
   "cell_type": "code",
   "execution_count": 21,
   "metadata": {},
   "outputs": [
    {
     "ename": "OutputParserException",
     "evalue": "Invalid json output: <article>\n  <title>Unearthing Time: The Oldest Known Fossil</title>\n  <problem>The writer inquires about the identity of the oldest known fossil.</problem>\n  <answer>The quest for Earth's earliest life forms leads us to remarkable fossils. The oldest recorded fossil is a stromatolite, dating back approximately 3.5 billion years. Stromatolites are layered structures formed by the growth of cyanobacteria, ancient microorganisms that played a pivotal role in oxygenating our planet.\n\nDiscovered in Western Australia's Pilbara region, these fossils offer a window into early life on Earth. They suggest that life began not long after the planet cooled enough for water to exist in liquid form. These formations are significant because they provide evidence of some of the first complex life forms, shaping the course of biological evolution.\n\nThe discovery of such ancient life highlights the resilience and adaptability of organisms, sparking curiosity about what other secrets lie beneath our feet, waiting to be uncovered by future explorations. Through stromatolites, we gain insight into a time when Earth was vastly different from today—a testament to life's enduring legacy across the eons.</answer>\n</article>\nFor troubleshooting, visit: https://python.langchain.com/docs/troubleshooting/errors/OUTPUT_PARSING_FAILURE ",
     "output_type": "error",
     "traceback": [
      "\u001b[0;31mOutputParserException\u001b[0m\u001b[0;31m:\u001b[0m Invalid json output: <article>\n  <title>Unearthing Time: The Oldest Known Fossil</title>\n  <problem>The writer inquires about the identity of the oldest known fossil.</problem>\n  <answer>The quest for Earth's earliest life forms leads us to remarkable fossils. The oldest recorded fossil is a stromatolite, dating back approximately 3.5 billion years. Stromatolites are layered structures formed by the growth of cyanobacteria, ancient microorganisms that played a pivotal role in oxygenating our planet.\n\nDiscovered in Western Australia's Pilbara region, these fossils offer a window into early life on Earth. They suggest that life began not long after the planet cooled enough for water to exist in liquid form. These formations are significant because they provide evidence of some of the first complex life forms, shaping the course of biological evolution.\n\nThe discovery of such ancient life highlights the resilience and adaptability of organisms, sparking curiosity about what other secrets lie beneath our feet, waiting to be uncovered by future explorations. Through stromatolites, we gain insight into a time when Earth was vastly different from today—a testament to life's enduring legacy across the eons.</answer>\n</article>\nFor troubleshooting, visit: https://python.langchain.com/docs/troubleshooting/errors/OUTPUT_PARSING_FAILURE \n"
     ]
    }
   ],
   "source": [
    "test_chain = (\n",
    "    prompt_system_format.partial(format_instructions=prompt_xml_format_pyxml)\n",
    "    | llm_model\n",
    "    | pydantic_parser\n",
    ")\n",
    "\n",
    "output = test_chain.invoke(dict(question=questions[0]))"
   ]
  },
  {
   "cell_type": "code",
   "execution_count": null,
   "metadata": {},
   "outputs": [],
   "source": []
  }
 ],
 "metadata": {
  "kernelspec": {
   "display_name": ".venv",
   "language": "python",
   "name": "python3"
  },
  "language_info": {
   "codemirror_mode": {
    "name": "ipython",
    "version": 3
   },
   "file_extension": ".py",
   "mimetype": "text/x-python",
   "name": "python",
   "nbconvert_exporter": "python",
   "pygments_lexer": "ipython3",
   "version": "3.12.3"
  }
 },
 "nbformat": 4,
 "nbformat_minor": 2
}
